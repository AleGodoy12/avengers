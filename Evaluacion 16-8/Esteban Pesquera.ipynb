{
 "cells": [
  {
   "cell_type": "code",
   "execution_count": 3,
   "metadata": {},
   "outputs": [
    {
     "name": "stdout",
     "output_type": "stream",
     "text": [
      "2\n",
      "3\n",
      "4\n",
      "5\n",
      "6\n",
      "7\n",
      "8\n",
      "9\n",
      "None\n"
     ]
    }
   ],
   "source": [
    "#1. Crea una función que dados dos números mostrará todos los números que hay entre ellos\n",
    "\n",
    "def rango(num1,num2):\n",
    "    for i in (range(num1+1,num2)):\n",
    "        print(i)\n",
    "print(rango(1,10,))\n"
   ]
  },
  {
   "cell_type": "code",
   "execution_count": 4,
   "metadata": {},
   "outputs": [
    {
     "name": "stdout",
     "output_type": "stream",
     "text": [
      "True\n"
     ]
    }
   ],
   "source": [
    "#2. Escribir una función que, dado un número de DNI, retorne True si el número es válido y False si no lo es.\n",
    "# Para que un número de DNI sea válido debe tener entre 7 y 8 dígitos.\n",
    "\n",
    "def dni (numerodni):\n",
    "\n",
    "    if (len(str(numerodni)) == 8 or len(str(numerodni)) == 7):\n",
    "        return True\n",
    "    else:\n",
    "        return False\n",
    "\n",
    "print(dni(43181406))"
   ]
  },
  {
   "cell_type": "code",
   "execution_count": 42,
   "metadata": {},
   "outputs": [
    {
     "name": "stdout",
     "output_type": "stream",
     "text": [
      "('Esteban', 'VERDE')\n"
     ]
    }
   ],
   "source": [
    "#3. Crea una funcion que retorne tu nombre y color favorito.\n",
    "\n",
    "def favorito(a,b):\n",
    "    nombre = input(\"nombre\")\n",
    "    color = input(\"color\")\n",
    "\n",
    "    return nombre,color\n",
    "\n",
    "print(favorito(a,b))"
   ]
  },
  {
   "cell_type": "code",
   "execution_count": null,
   "metadata": {},
   "outputs": [],
   "source": []
  },
  {
   "cell_type": "code",
   "execution_count": null,
   "metadata": {},
   "outputs": [],
   "source": []
  }
 ],
 "metadata": {
  "kernelspec": {
   "display_name": "Python 3.10.5 64-bit",
   "language": "python",
   "name": "python3"
  },
  "language_info": {
   "codemirror_mode": {
    "name": "ipython",
    "version": 3
   },
   "file_extension": ".py",
   "mimetype": "text/x-python",
   "name": "python",
   "nbconvert_exporter": "python",
   "pygments_lexer": "ipython3",
   "version": "3.10.5"
  },
  "orig_nbformat": 4,
  "vscode": {
   "interpreter": {
    "hash": "98fa02a8c884382a90c52caa7e7b88891612be484f9b34d4c4e4bfd155aeec17"
   }
  }
 },
 "nbformat": 4,
 "nbformat_minor": 2
}
