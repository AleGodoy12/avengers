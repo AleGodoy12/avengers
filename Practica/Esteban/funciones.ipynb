{
 "cells": [
  {
   "cell_type": "code",
   "execution_count": 1,
   "metadata": {},
   "outputs": [
    {
     "name": "stdout",
     "output_type": "stream",
     "text": [
      "El correo es válido\n"
     ]
    }
   ],
   "source": [
    "#1. Solicitar al usuario que ingrese su dirección email. \n",
    "#Imprimir un mensaje indicando si la dirección es válida o no, valiéndose de una función para decidirlo. \n",
    "#Una dirección se considerará válida si contiene el símbolo \"@\"\n",
    "\n",
    "correo = str ( input(\"Escriba su dirección de correo: \"))\n",
    "\n",
    "def validar (direccion):\n",
    "\n",
    "    if (\"@\" in direccion):           \n",
    "\n",
    "        print (\"El correo es válido\")\n",
    "\n",
    "    else:\n",
    "\n",
    "          print (\"El correo no es valido\")\n",
    "\n",
    "validar(correo)\n"
   ]
  },
  {
   "cell_type": "code",
   "execution_count": 3,
   "metadata": {},
   "outputs": [
    {
     "name": "stdout",
     "output_type": "stream",
     "text": [
      "6\n",
      "6\n",
      "6\n",
      "bucle finalizado\n"
     ]
    }
   ],
   "source": [
    "# #2. Solicitar números al usuario hasta que ingrese el cero. \n",
    "# #Por cada uno, mostrar la suma de sus dígitos (utilizando una función que realice dicha suma)\n",
    "\n",
    "\n",
    "def sumadigitos(a):   #Defino una función (a)\n",
    "   \n",
    "    digitos =[int (x) for x in str(a)]   #va a leer el elemento                 Convierto el número en un String \n",
    "    \n",
    "    acumulador = 0   #declaro el acumulador ene su posicion\n",
    "   \n",
    "    for i in digitos:\n",
    "\n",
    "        acumulador+=i\n",
    "   \n",
    "    return acumulador\n",
    "\n",
    "numero = input(\"ingrese un numero\")\n",
    "\n",
    "while numero !=\"0\": # cero como string\n",
    "\n",
    "    print (sumadigitos(numero))\n",
    "\n",
    "    numero = input(\"ingrese un numero\")\n",
    "\n",
    "print (\"bucle finalizado\")\n"
   ]
  },
  {
   "cell_type": "code",
   "execution_count": 2,
   "metadata": {},
   "outputs": [
    {
     "name": "stdout",
     "output_type": "stream",
     "text": [
      "La suma de dígitos del número 123 es:  6\n",
      "La suma de dígitos del número 12 es:  3\n",
      "La suma de los números ingresados es:  135\n",
      "Bucle finalizado\n"
     ]
    }
   ],
   "source": [
    "#3. Solicitar números al usuario hasta que ingrese el cero. \n",
    "#Por cada uno, mostrar la suma de sus dígitos. \n",
    "#Al finalizar, mostrar la sumatoria de todos los números ingresados y la suma de sus dígitos. \n",
    "#Reutilizar la misma función realizada en el ejercicio 2.\n",
    "\n",
    "def  sumadigitos (a) :                     # defino funcion (a) puede val\n",
    "    digitos =[int (x) for x in str(a)]     #va a leer el elemento\n",
    "    acumulador = 0                         #declaro el acumulador ene su posicion\n",
    "    for i in digitos:\n",
    "        acumulador+=i\n",
    "    print (\"La suma de dígitos del número\",  numero, \"es: \", acumulador )\n",
    "\n",
    "numero = int(input(\"Ingrese un numero: \"))\n",
    "\n",
    "sumatoria= 0\n",
    "while numero !=0:                           \n",
    "\n",
    "    sumadigitos(numero)              #LLamo a la fuunción\n",
    "\n",
    "    sumatoria += numero\n",
    "\n",
    "    numero = int(input(\"Ingrese un numero: \"))\n",
    "\n",
    "print(\"La suma de los números ingresados es: \", sumatoria)\n",
    "\n",
    "\n",
    "print (\"Bucle finalizado\")  "
   ]
  },
  {
   "cell_type": "code",
   "execution_count": null,
   "metadata": {},
   "outputs": [],
   "source": []
  }
 ],
 "metadata": {
  "kernelspec": {
   "display_name": "Python 3.10.5 64-bit",
   "language": "python",
   "name": "python3"
  },
  "language_info": {
   "codemirror_mode": {
    "name": "ipython",
    "version": 3
   },
   "file_extension": ".py",
   "mimetype": "text/x-python",
   "name": "python",
   "nbconvert_exporter": "python",
   "pygments_lexer": "ipython3",
   "version": "3.10.5"
  },
  "orig_nbformat": 4,
  "vscode": {
   "interpreter": {
    "hash": "98fa02a8c884382a90c52caa7e7b88891612be484f9b34d4c4e4bfd155aeec17"
   }
  }
 },
 "nbformat": 4,
 "nbformat_minor": 2
}
