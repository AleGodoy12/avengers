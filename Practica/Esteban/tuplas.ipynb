{
 "cells": [
  {
   "cell_type": "code",
   "execution_count": null,
   "metadata": {},
   "outputs": [],
   "source": [
    "#1. Crea una tupla con los meses del año, \n",
    "# pide números al usuario, \n",
    "# si el numero esta entre 1 y la longitud máxima de la tupla, \n",
    "# muestra el contenido de esa posición sino muestra un mensaje de error.\n",
    "#El programa termina cuando el usuario introduce un cero.\n",
    "\n",
    "meses= [\"enero\", \"febrero\", \"marzo\", \"abril\", \"mayo\", \"junio\", \"julio\", \"agosto\", \"septiembre\", \"octubre\", \"noviembre\", \"diciembre\"]\n",
    "mes= 1\n",
    "\n",
    "while mes != 0:\n",
    "    mes= int(input(\"Ingrese un numero del 1 al 12: \"))\n",
    "    if (mes >=1 and mes <=12):\n",
    "        print(meses[mes-1])       # -1 para que me coincida el numero con el mes pq empieza de 0\n",
    "    else:\n",
    "        print(\"Error!\")"
   ]
  },
  {
   "cell_type": "code",
   "execution_count": null,
   "metadata": {},
   "outputs": [],
   "source": [
    "\n",
    "#2. Crea una tupla con números, pide un numero por teclado e indica cuantas veces se repite.\n",
    "\n",
    "tuplas= (4, 3, 5, 9, 7, 3, 3, 5, 7, 1,)\n",
    "numero= int(input(\"Ingrese números: \"))\n",
    "\n",
    "contador= 0 \n",
    "for i in tuplas:\n",
    "    if numero == i:\n",
    "        contador += 1\n",
    "print(\"Hay\", contador ,\"numeros repetidos\")"
   ]
  },
  {
   "cell_type": "code",
   "execution_count": null,
   "metadata": {},
   "outputs": [],
   "source": [
    "#3. Crea una tupla con números, pide un numero por teclado e indica cuantas veces se repite.\n",
    "\n",
    "tupla1= (1, 2, 3, 4, 5, 6, 7, 8, 9, 10)\n",
    "indice= int(input(\"Ingrese un índice: \"))\n",
    "print(tupla1[indice])"
   ]
  }
 ],
 "metadata": {
  "kernelspec": {
   "display_name": "Python 3.10.5 64-bit",
   "language": "python",
   "name": "python3"
  },
  "language_info": {
   "name": "python",
   "version": "3.10.5"
  },
  "orig_nbformat": 4,
  "vscode": {
   "interpreter": {
    "hash": "98fa02a8c884382a90c52caa7e7b88891612be484f9b34d4c4e4bfd155aeec17"
   }
  }
 },
 "nbformat": 4,
 "nbformat_minor": 2
}
