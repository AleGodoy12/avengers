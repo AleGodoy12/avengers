{
 "cells": [
  {
   "cell_type": "code",
   "execution_count": null,
   "metadata": {},
   "outputs": [],
   "source": [
    "# 1. Genera una lista con los valores del 1 al 100 en una lista.\n",
    "\n",
    "lista = []\n",
    "\n",
    "for i in range (1, 101):\n",
    "\n",
    "    lista.append(i)\n",
    "\n",
    "print (lista)"
   ]
  },
  {
   "cell_type": "code",
   "execution_count": null,
   "metadata": {},
   "outputs": [],
   "source": [
    "# 2. Crea un programa que pida un numero por teclado y guarde en una lista su\n",
    "#  tabla de multiplicar hasta el 10. Por ejemplo, si pide el 5 la lista tendrá: 5,10,15,20,25,30,35,40,45,50\n",
    "\n",
    "\n",
    "numero = int ( input (\"Escribe un número: \"))\n",
    "\n",
    "lista = []\n",
    "\n",
    "multiplicador = 10\n",
    "\n",
    "for i in range (1, multiplicador + 1 ):\n",
    "\n",
    "    resultado = numero * i \n",
    "\n",
    "    lista.append(resultado)\n",
    "\n",
    "print (\"El resultado de la multiplicación del número \", numero, \" = \",  lista) "
   ]
  },
  {
   "cell_type": "code",
   "execution_count": null,
   "metadata": {},
   "outputs": [],
   "source": [
    "# 3. Crea un programa que pida al usuario números, genera en una lista, \n",
    "# cuando el usuario ingrese un 0 dejaremos de insertar. Por último, muestra los números ordenados de menor a mayor.\n",
    "\n",
    "\n",
    "numero = int (input (\"Escribe un número: \"))\n",
    "\n",
    "numeroLimite = 0\n",
    "\n",
    "lista = []\n",
    "\n",
    "while numero != numeroLimite :\n",
    "\n",
    "    lista.append ( numero)\n",
    "\n",
    "    numero = int (input (\"Escribe un número: \"))\n",
    "    \n",
    "lista.sort()\n",
    "\n",
    "print(lista)"
   ]
  },
  {
   "cell_type": "code",
   "execution_count": null,
   "metadata": {},
   "outputs": [],
   "source": [
    "# 4. Crea un programa que pida al usuario números, genera en una lista,\n",
    "#  cuando el usuario ingrese un 0 dejaremos de insertar. Por último, muestra los números ordenados de mayor a menor.\n",
    "\n",
    "numero = int (input (\"Escribe un número: \"))\n",
    "\n",
    "lista = []\n",
    "\n",
    "numeroLimite = 0\n",
    "\n",
    "while numero != numeroLimite: \n",
    "\n",
    "    lista.append(numero)\n",
    "\n",
    "    numero = int (input (\"Escribe un número: \"))\n",
    "\n",
    "lista.sort (reverse = True)     # De MAYOR a MENOR\n",
    "\n",
    "print(lista)\n"
   ]
  }
 ],
 "metadata": {
  "kernelspec": {
   "display_name": "Python 3.10.5 64-bit",
   "language": "python",
   "name": "python3"
  },
  "language_info": {
   "name": "python",
   "version": "3.10.5"
  },
  "orig_nbformat": 4,
  "vscode": {
   "interpreter": {
    "hash": "98fa02a8c884382a90c52caa7e7b88891612be484f9b34d4c4e4bfd155aeec17"
   }
  }
 },
 "nbformat": 4,
 "nbformat_minor": 2
}
