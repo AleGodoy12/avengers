{
 "cells": [
  {
   "cell_type": "code",
   "execution_count": null,
   "metadata": {},
   "outputs": [],
   "source": [
    "# El juego consistirá en tirar dos dados\n",
    "# Debemos obtener dos número aleatorios entre el 1 y el 6\n",
    "# Si la suma de los dos dados es 4, el participante gana la mano.\n",
    "# Si la suma de dos dados es menor a 4, el participante pierde y se termina el juego.\n",
    "​\n",
    "# - Realizar los comentarios pertinentes en el codigo para que se entienda la lógica utilizada\n",
    "# - Mostrar la suma de los números por pantalla y pedirle al usurio que toque una tecla para volver a lanzar los dados.\n",
    "import numpy as np\n",
    "​\n",
    "def juegoDados (): #creamos una función para que pueda ser reutilizable.\n",
    "    jugar = input('Toca cualquier tecla para empezar ') #creamos una variable con un input, para pedirle información al usuario.\n",
    "    while jugar != 'terminar':  #creamos un bucle con la condición de que sólo termine cuando el usuario ingrese \"Terminar\".\n",
    "        dados = np.random.randint(1,6,2) #Usamos un módulo importado de numpy, llamado random.radint, en los primeros dos parametros le aclaramos de qué número a qué número tienen que ser los números que salgan y en el tercer parámetro le aclaramos cuántos números queremos que nos de.\n",
    "        suma = sum(dados) #Creamos una variable donde hacemos la suma los valores que nos trajo el random.radint y guardamos el resultado.\n",
    "        print('En la tirada salieron los números:', dados, 'y suman', suma) #Imprimimos cuáles fueron los valores de los dados y su suma.\n",
    "        #Ahora comenzamos un if/elif/else para separar las distintas opciones que nos puede traer el código anterior.\n",
    "        if suma == 4: #Comenzamos con un if aclarando qué pasaría si la suma de los valores da 4.\n",
    "            print('FELICIDADES! SACASTE 4! GANASTE!') #Imprimimos el resultado de la condición dada.\n",
    "            jugar = input('Tocá cualquier tecla para seguir jugando, para terminar escribí x') #Le damos la oportunidad al usuario de seguir jugando y de terminar el juego.\n",
    "        elif suma < 4: #Acá, con un elif decimos qué pasaría si la suma de los valores fuera menor a 4.\n",
    "            print('La suma de los dados fue:', suma, '. Perdiste, vuelve a intentar!') #Nuevamente imprimimos el resultado de la condición dada.\n",
    "            jugar = input('Tocá cualquier tecla para seguir jugando, para terminar escribí \\'terminar\\'') #Y nuevamente le damos al usuario la opción de seguir jugando o de terminar el juego.\n",
    "        else: #En el else implicitamente entra cualquier otro resultado de la suma que no cumplan con las condiciones anteriores.\n",
    "            print('Sacaste:', suma) #Le expresamos al usuario cual fue la suma de los valores recibidos.\n",
    "            jugar = input('Tocá cualquier tecla para seguir jugando, para terminar escribí \\'terminar\\'') #Y nuevamente le damos al usuario la oportunidad de seguir jugando o terminar el juego.\n",
    "juegoDados()\n",
    "​\n",
    "#Versión sin comentar\n",
    "def juegoDados (): \n",
    "    jugar = input('Toca cualquier tecla para empezar ')\n",
    "    while jugar != 'terminar':\n",
    "        dados = np.random.randint(1,6,2) \n",
    "        suma = sum(dados) \n",
    "        print('En la tirada salieron los números:', dados, 'y suman', suma) \n",
    "        if suma == 4:\n",
    "            print('FELICIDADES! SACASTE 4! GANASTE!')\n",
    "            jugar = input('Tocá cualquier tecla para seguir jugando, para terminar escribí x') \n",
    "        elif suma < 4: \n",
    "            print('La suma de los dados fue:', suma, '. Perdiste, vuelve a intentar!')\n",
    "            jugar = input('Tocá cualquier tecla para seguir jugando, para terminar escribí \\'terminar\\'')\n",
    "        else:\n",
    "            print('Sacaste:', suma)\n",
    "            jugar = input('Tocá cualquier tecla para seguir jugando, para terminar escribí \\'terminar\\'')\n",
    "juegoDados()"
   ]
  }
 ],
 "metadata": {
  "kernelspec": {
   "display_name": "Python 3.10.5 64-bit",
   "language": "python",
   "name": "python3"
  },
  "language_info": {
   "name": "python",
   "version": "3.10.5"
  },
  "orig_nbformat": 4,
  "vscode": {
   "interpreter": {
    "hash": "98fa02a8c884382a90c52caa7e7b88891612be484f9b34d4c4e4bfd155aeec17"
   }
  }
 },
 "nbformat": 4,
 "nbformat_minor": 2
}
