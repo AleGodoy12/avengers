{
 "cells": [
  {
   "cell_type": "code",
   "execution_count": null,
   "metadata": {},
   "outputs": [],
   "source": [
    "#1. Crea un diccionario donde la clave sea el nombre del usuario y el valor sea el teléfono \n",
    "# (no es necesario validar). Tendrás que ir pidiendo contactos hasta el usuario diga que no quiere insertar mas.\n",
    "#  No se podrán meter nombres repetidos.\n",
    "\n",
    "dicc= {}\n",
    "\n",
    "while True:                                              #se ejeute el bucle mientras sea verdadero\n",
    "    clave= input(\"Ingrese su nombre o x para finalizar la operación: \")\n",
    "    if clave == \"x\":\n",
    "        break\n",
    "    valor= int(input(\"Ingrese su número de telefono: \"))\n",
    "    if clave not in dicc:\n",
    "        dicc[clave] = valor\n",
    "    else:\n",
    "        print(\"No se puede repetir el nombre\")        \n",
    "print(dicc)\n",
    "       \n",
    "\n",
    "#2. Crea una tupla con los meses del año, pide números al usuario, \n",
    "# si el numero esta entre 1 y la longitud máxima de la tupla, \n",
    "# muestra el contenido de esa posición sino muestra un mensaje de error. \n",
    "# El programa termina cuando el usuario introduce un cero.\n",
    "\n",
    "meses= (\"enero\", \"febrero\", \"marzo\", \"abril\", \"mayo\", \"junio\", \"julio\", \"agosto\", \"septiembre\", \"octubre\", \"noviembre\", \"diciembre\")\n",
    "mes= 1\n",
    "\n",
    "while mes != 0:\n",
    "    mes= int(input(\"Ingrese un numero del 1 al 12: \"))\n",
    "    if (mes >=1 and mes <=12):\n",
    "        print(meses[mes-1])       # -1 para que me coincida el numero con el mes pq empieza de 0\n",
    "    else:\n",
    "        print(\"Error!\")\n",
    "\n",
    "#3. Crea una tupla con números, pide un numero por teclado e indica cuantas veces se repite.\n",
    "\n",
    "tuplas= (4, 3, 5, 9, 7, 3, 3, 5, 7, 1,3)\n",
    "print (tuplas)\n",
    "numero= int(input(\"Ingrese un numero para saber cuantas veces se repite: \"))\n",
    "print (\"El\", numero, \"esta repetido\", tuplas.count(numero), \" veces\")\n",
    "\n",
    "#4. Crea un programa e inserte los valores del 50 al 100 en una lista\n",
    "\n",
    "lista= list(range(50,101))\n",
    "print (lista)\n",
    "\n",
    "#5. Escribir un programa que almacene las asignaturas de un curso \n",
    "# (por ejemplo Matemáticas, Física, Química, Historia y Lengua) en una lista y la muestre por pantalla.\n",
    "\n",
    "asignaturas = [\"Matemáticas\", \"Física\", \"Química\", \"Historia\", \"Lengua\"]\n",
    "for asignatura in asignaturas:\n",
    "    print(\"Yo estudio \" +asignatura)"
   ]
  }
 ],
 "metadata": {
  "kernelspec": {
   "display_name": "Python 3.10.5 64-bit",
   "language": "python",
   "name": "python3"
  },
  "language_info": {
   "name": "python",
   "version": "3.10.5"
  },
  "orig_nbformat": 4,
  "vscode": {
   "interpreter": {
    "hash": "98fa02a8c884382a90c52caa7e7b88891612be484f9b34d4c4e4bfd155aeec17"
   }
  }
 },
 "nbformat": 4,
 "nbformat_minor": 2
}
