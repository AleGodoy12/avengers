{
 "cells": [
  {
   "cell_type": "code",
   "execution_count": null,
   "metadata": {},
   "outputs": [],
   "source": [
    "# lista = []\n",
    "# lista2 = []\n",
    "# def agregaralumno():\n",
    "#     while True:\n",
    "#         acumulador = 0\n",
    "#         nombre= input(\"ingrese el nombre del alumno: \")\n",
    "#         grado = int(input(\"ingrese el grado del alumno: \"))\n",
    "#         altura = float(input(\"ingrese la altura del alumno: \"))\n",
    "#         curso = input(\"ingrese el curso del alumno(A B o C): \").capitalize()\n",
    "#         datos = (nombre,grado,altura,curso)\n",
    "#         datos2 =(nombre, acumulador)\n",
    "#         acumulador += 1\n",
    "#         lista.append(datos)\n",
    "#         lista2.append(datos2)\n",
    "#         confirmacion = input(\"desea seguir agregando alumnos? y/n\")\n",
    "#         if confirmacion == \"y\":\n",
    "#             agregaralumno()\n",
    "#             break\n",
    "#         else:\n",
    "#          print(\"Alumnos agregados\")\n",
    "#          print (lista)\n",
    "#          print(\"nombre y posicion de fila del alumno: \")\n",
    "#          print(lista2)\n",
    "#          break\n",
    "# agregaralumno()\n",
    "\n"
   ]
  },
  {
   "cell_type": "code",
   "execution_count": 3,
   "metadata": {},
   "outputs": [
    {
     "name": "stdout",
     "output_type": "stream",
     "text": [
      "los alumnos que agregamos son: \n",
      "0 : cristian\n",
      "1 : Ariel\n",
      "2 : Esteban\n",
      "3 : esteban\n",
      "4 : azul\n",
      "El curso A tiene :1 alumnos ,el curso B tiene:1 alumnos y el curso C tiene:3 alumnos \n",
      "el alumno mas alto del 5 año mide 170 y esta en la posicion 4\n",
      "y el alumno mas bajo del 5 año mide 160 y esta en la posicion 3\n"
     ]
    }
   ],
   "source": [
    "lista_alumnos = [(\"alberto\",175,1,\"a\"),(\"roberto\",180,3,\"b\"),(\"rodolfo\",160,2,\"c\")]\n",
    "def alumnos ():\n",
    "    nombre = input(\"ingrese el nombre del alumno: \")\n",
    "    altura = int(input(\"ingrese altura del alumno  en cm: \"))\n",
    "    grado = int(input(\"ingrese grado (valor entero de 1 a 5): \"))\n",
    "    curso = input(\"ingrese el curso  ('A','B' o 'C'): \")\n",
    "    datos = (nombre,altura,grado,curso)\n",
    "    lista_alumnos.append(datos)\n",
    "\n",
    "    agregar_alumnos= input(\"desea seguir agregando alumnos y/n :\")\n",
    "\n",
    "    if agregar_alumnos == \"y\":\n",
    "        alumnos()\n",
    "\n",
    "    else:\n",
    "        print(\"los alumnos que agregamos son: \")\n",
    "alumnos()\n",
    "suma=0\n",
    "for i in lista_alumnos:\n",
    "    print(suma,\":\",i[0])\n",
    "    suma +=1\n",
    "\n",
    "cursoA, cursoB, cursoC = 0, 0, 0\n",
    "\n",
    "for x in lista_alumnos:\n",
    "    if x[3] == \"a\":\n",
    "        cursoA += 1\n",
    "\n",
    "    elif x[3] == \"b\":\n",
    "        cursoB += 1\n",
    "\n",
    "    elif x[3] == \"c\":\n",
    "        cursoC += 1\n",
    "\n",
    "print(f'El curso A tiene :{cursoA} alumnos ,el curso B tiene:{cursoB} alumnos y el curso C tiene:{cursoC} alumnos ')\n",
    "\n",
    "alturamin = []\n",
    "alturas = []\n",
    "def alumnoaltura ():\n",
    "    for i in lista_alumnos:\n",
    "        if i [2]==5:\n",
    "         alturas.append(i[1])\n",
    "    altura_max = max(alturas)\n",
    "    for i in lista_alumnos:\n",
    "        if i[2]==5 and i[1]==altura_max:\n",
    "           posicion=lista_alumnos.index(i)\n",
    "    print(\"el alumno mas alto del 5 año mide\", altura_max,\"y esta en la posicion\",posicion)\n",
    "\n",
    "    for i in lista_alumnos:\n",
    "        if i [2]==5:\n",
    "         alturamin.append(i[1])\n",
    "    altura_min= min(alturamin)\n",
    "    for i in lista_alumnos:\n",
    "        if i[2]==5 and i[1]==altura_min:\n",
    "           posicion2=lista_alumnos.index(i)\n",
    "    print(\"y el alumno mas bajo del 5 año mide\", altura_min,\"y esta en la posicion\",posicion2)\n",
    "alumnoaltura()\n",
    "\n",
    "def PromedioAltura():\n",
    "    acumulador = 0  \n",
    "    for nombre in lista_alumnos:\n",
    "        acumulador += nombre[\"Altura\"]\n",
    "    return acumulador/len(lista_alumnos[2])\n",
    "PromedioAltura()"
   ]
  },
  {
   "cell_type": "code",
   "execution_count": null,
   "metadata": {},
   "outputs": [],
   "source": []
  }
 ],
 "metadata": {
  "kernelspec": {
   "display_name": "Python 3.10.5 64-bit",
   "language": "python",
   "name": "python3"
  },
  "language_info": {
   "codemirror_mode": {
    "name": "ipython",
    "version": 3
   },
   "file_extension": ".py",
   "mimetype": "text/x-python",
   "name": "python",
   "nbconvert_exporter": "python",
   "pygments_lexer": "ipython3",
   "version": "3.10.5"
  },
  "orig_nbformat": 4,
  "vscode": {
   "interpreter": {
    "hash": "98fa02a8c884382a90c52caa7e7b88891612be484f9b34d4c4e4bfd155aeec17"
   }
  }
 },
 "nbformat": 4,
 "nbformat_minor": 2
}
