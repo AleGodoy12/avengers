{
 "cells": [
  {
   "cell_type": "code",
   "execution_count": 20,
   "metadata": {},
   "outputs": [
    {
     "ename": "TypeError",
     "evalue": "'int' object is not iterable",
     "output_type": "error",
     "traceback": [
      "\u001b[1;31m---------------------------------------------------------------------------\u001b[0m",
      "\u001b[1;31mTypeError\u001b[0m                                 Traceback (most recent call last)",
      "\u001b[1;32mc:\\Users\\Arbusta\\Desktop\\Avengers\\avengers\\Practica\\Lucas\\Ejercicio.ipynb Celda 1\u001b[0m in \u001b[0;36m<cell line: 19>\u001b[1;34m()\u001b[0m\n\u001b[0;32m     <a href='vscode-notebook-cell:/c%3A/Users/Arbusta/Desktop/Avengers/avengers/Practica/Lucas/Ejercicio.ipynb#W0sZmlsZQ%3D%3D?line=15'>16</a>\u001b[0m         \u001b[39melse\u001b[39;00m:\n\u001b[0;32m     <a href='vscode-notebook-cell:/c%3A/Users/Arbusta/Desktop/Avengers/avengers/Practica/Lucas/Ejercicio.ipynb#W0sZmlsZQ%3D%3D?line=16'>17</a>\u001b[0m             \u001b[39mreturn\u001b[39;00m(\u001b[39m\"\u001b[39m\u001b[39mMail no valido\u001b[39m\u001b[39m\"\u001b[39m)\n\u001b[1;32m---> <a href='vscode-notebook-cell:/c%3A/Users/Arbusta/Desktop/Avengers/avengers/Practica/Lucas/Ejercicio.ipynb#W0sZmlsZQ%3D%3D?line=18'>19</a>\u001b[0m mail(mailUser)\n",
      "\u001b[1;32mc:\\Users\\Arbusta\\Desktop\\Avengers\\avengers\\Practica\\Lucas\\Ejercicio.ipynb Celda 1\u001b[0m in \u001b[0;36mmail\u001b[1;34m(mailUser)\u001b[0m\n\u001b[0;32m     <a href='vscode-notebook-cell:/c%3A/Users/Arbusta/Desktop/Avengers/avengers/Practica/Lucas/Ejercicio.ipynb#W0sZmlsZQ%3D%3D?line=9'>10</a>\u001b[0m \u001b[39mdef\u001b[39;00m \u001b[39mmail\u001b[39m (mailUser):\n\u001b[0;32m     <a href='vscode-notebook-cell:/c%3A/Users/Arbusta/Desktop/Avengers/avengers/Practica/Lucas/Ejercicio.ipynb#W0sZmlsZQ%3D%3D?line=11'>12</a>\u001b[0m     simbolo \u001b[39m=\u001b[39m  \u001b[39m\"\u001b[39m\u001b[39m@\u001b[39m\u001b[39m\"\u001b[39m\n\u001b[1;32m---> <a href='vscode-notebook-cell:/c%3A/Users/Arbusta/Desktop/Avengers/avengers/Practica/Lucas/Ejercicio.ipynb#W0sZmlsZQ%3D%3D?line=12'>13</a>\u001b[0m     \u001b[39mfor\u001b[39;00m i \u001b[39min\u001b[39;00m mailUser\u001b[39m.\u001b[39mfind(\u001b[39m\"\u001b[39m\u001b[39m@\u001b[39m\u001b[39m\"\u001b[39m):\n\u001b[0;32m     <a href='vscode-notebook-cell:/c%3A/Users/Arbusta/Desktop/Avengers/avengers/Practica/Lucas/Ejercicio.ipynb#W0sZmlsZQ%3D%3D?line=13'>14</a>\u001b[0m         \u001b[39mif\u001b[39;00m i \u001b[39m==\u001b[39m simbolo:\n\u001b[0;32m     <a href='vscode-notebook-cell:/c%3A/Users/Arbusta/Desktop/Avengers/avengers/Practica/Lucas/Ejercicio.ipynb#W0sZmlsZQ%3D%3D?line=14'>15</a>\u001b[0m             \u001b[39mreturn\u001b[39;00m (\u001b[39m\"\u001b[39m\u001b[39mmail valido\u001b[39m\u001b[39m\"\u001b[39m)\n",
      "\u001b[1;31mTypeError\u001b[0m: 'int' object is not iterable"
     ]
    }
   ],
   "source": [
    "#1. Solicitar al usuario que ingrese su dirección email. \n",
    "#Imprimir un mensaje indicando si la dirección es válida o no, valiéndose de una función para decidirlo. \n",
    "# Una dirección se considerará válida si contiene el símbolo \"@\"\n",
    "\n",
    "\n",
    "mailUser = str(input(\"Ingrese su mail\"))\n",
    "\n",
    "\n",
    "\n",
    "def mail (mailUser):\n",
    "    \n",
    "    simbolo =  \"@\"\n",
    "    for i in mailUser:  \n",
    "        if i == simbolo:\n",
    "            return (\"mail valido\")\n",
    "        else:\n",
    "            return(\"Mail no valido\")\n",
    "\n",
    "mail(mailUser)\n"
   ]
  },
  {
   "cell_type": "code",
   "execution_count": 31,
   "metadata": {},
   "outputs": [
    {
     "data": {
      "text/plain": [
       "'Mail incorrecto'"
      ]
     },
     "execution_count": 31,
     "metadata": {},
     "output_type": "execute_result"
    }
   ],
   "source": [
    "mailUser = str(input(\"Ingrese su mail\"))\n",
    "\n",
    "\n",
    "\n",
    "def mail (mailUser):\n",
    "    simbolo =  \"@\"\n",
    "    Verificador = mailUser.find(\"@\")\n",
    "\n",
    "    for i in mailUser:\n",
    "        if Verificador == True:\n",
    "            return (\"Mail correcto\")\n",
    "        else:\n",
    "            return (\"Mail incorrecto\")\n",
    "\n",
    "mail(mailUser)\n",
    "    "
   ]
  },
  {
   "cell_type": "code",
   "execution_count": 34,
   "metadata": {},
   "outputs": [
    {
     "ename": "SyntaxError",
     "evalue": "incomplete input (2146773857.py, line 26)",
     "output_type": "error",
     "traceback": [
      "\u001b[1;36m  Input \u001b[1;32mIn [34]\u001b[1;36m\u001b[0m\n\u001b[1;33m    \u001b[0m\n\u001b[1;37m    ^\u001b[0m\n\u001b[1;31mSyntaxError\u001b[0m\u001b[1;31m:\u001b[0m incomplete input\n"
     ]
    }
   ],
   "source": [
    "#2. Solicitar números al usuario hasta que ingrese el cero. \n",
    "# Por cada uno, mostrar la suma de sus dígitos (utilizando una función que realice dicha suma)\n",
    "\n",
    "numeruser = int(input(\"Escriba numeros\"))\n",
    "\n",
    "def sumadigitos (numeros):\n",
    "#     i = 0                         #contar cantidad / acumulador\n",
    "#     while (numeruser != 0):\n",
    "#         undigito = numeruser // 10\n",
    "#         print (undigito)\n",
    "#         for i in numeruser:\n",
    "\n",
    "            \n",
    "        \n",
    "\n",
    "            \n",
    "\n",
    "\n",
    "\n",
    "        # i += numeruser % 10\n",
    "        # numeruser = numeruser // 10\n",
    "        # numeruser += i\n",
    "\n",
    "sumadigitos (numeruser)\n",
    "\n",
    "\n",
    "\n"
   ]
  },
  {
   "cell_type": "code",
   "execution_count": 39,
   "metadata": {},
   "outputs": [
    {
     "name": "stdout",
     "output_type": "stream",
     "text": [
      "1\n",
      "5\n",
      "5\n",
      "4\n",
      "4\n",
      "5\n",
      "6\n",
      "6\n",
      "10\n",
      "Bucle finalizado!\n"
     ]
    }
   ],
   "source": [
    "\n",
    "def sumadigitos (a):\n",
    "    digitos = [int(x)for x in str(a)] # x para  x en strig un elemento suma de digitos\n",
    "\n",
    "    acumulador = 0\n",
    "\n",
    "    for i in digitos:\n",
    "        acumulador += i\n",
    "    return acumulador\n",
    "numero = input(\"Ingrese un numero\")\n",
    "while numero != \"0\":\n",
    "    print(sumadigitos(numero))\n",
    "    numero = input(\"Ingrese un numero\")\n",
    "print(\"Bucle finalizado!\")\n",
    "\n"
   ]
  },
  {
   "cell_type": "code",
   "execution_count": 58,
   "metadata": {},
   "outputs": [
    {
     "name": "stdout",
     "output_type": "stream",
     "text": [
      "4\n",
      "5\n",
      "6\n",
      "7\n",
      "9\n",
      "Bucle finalizado!\n",
      "229\n",
      "13\n"
     ]
    }
   ],
   "source": [
    "#3. Solicitar números al usuario hasta que ingrese el cero. Por cada uno, mostrar la suma de sus dígitos.\n",
    "# Al finalizar, mostrar la sumatoria de todos los números ingresados y la suma de sus dígitos. \n",
    "#Reutilizar la misma función realizada en el ejercicio 2.\n",
    "\n",
    "def sumadigitos (a):\n",
    "    digitos = [int(x)for x in str(a)] # x para  x en strig un elemento suma de digitos\n",
    "\n",
    "    acumulador = 0\n",
    "    # acu2 = 0\n",
    "\n",
    "    for i in digitos:\n",
    "        acumulador += i\n",
    "    return acumulador\n",
    "numero = int(input(\"Ingrese un numero\"))\n",
    "\n",
    "acu2 = 0\n",
    "\n",
    "while numero != 0:\n",
    "    print(sumadigitos(numero))\n",
    "    acu2 = acu2 + numero\n",
    "    numero = int(input(\"Ingrese un numero\"))\n",
    "    # print(acu2)\n",
    "print(\"Bucle finalizado!\")\n",
    "print(acu2)\n",
    "print (sumadigitos (acu2))\n",
    "# acu2 = 0\n",
    "# for n in digitos:\n",
    "#     acu2 += n\n",
    "#     print(acu2)\n",
    "\n",
    "# lista = []\n",
    "\n",
    "# suma = sum(digitos)\n",
    "# print(suma)\n"
   ]
  },
  {
   "cell_type": "code",
   "execution_count": null,
   "metadata": {},
   "outputs": [],
   "source": []
  }
 ],
 "metadata": {
  "kernelspec": {
   "display_name": "Python 3.10.5 64-bit",
   "language": "python",
   "name": "python3"
  },
  "language_info": {
   "codemirror_mode": {
    "name": "ipython",
    "version": 3
   },
   "file_extension": ".py",
   "mimetype": "text/x-python",
   "name": "python",
   "nbconvert_exporter": "python",
   "pygments_lexer": "ipython3",
   "version": "3.10.5"
  },
  "orig_nbformat": 4,
  "vscode": {
   "interpreter": {
    "hash": "98fa02a8c884382a90c52caa7e7b88891612be484f9b34d4c4e4bfd155aeec17"
   }
  }
 },
 "nbformat": 4,
 "nbformat_minor": 2
}
