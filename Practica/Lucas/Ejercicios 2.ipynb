{
 "cells": [
  {
   "cell_type": "code",
   "execution_count": 5,
   "metadata": {},
   "outputs": [
    {
     "ename": "TypeError",
     "evalue": "'int' object is not subscriptable",
     "output_type": "error",
     "traceback": [
      "\u001b[1;31m---------------------------------------------------------------------------\u001b[0m",
      "\u001b[1;31mTypeError\u001b[0m                                 Traceback (most recent call last)",
      "\u001b[1;32mc:\\Users\\Arbusta\\Desktop\\Avengers\\avengers\\Practica\\Lucas\\Ejercicios 2.ipynb Celda 1\u001b[0m in \u001b[0;36m<cell line: 7>\u001b[1;34m()\u001b[0m\n\u001b[0;32m      <a href='vscode-notebook-cell:/c%3A/Users/Arbusta/Desktop/Avengers/avengers/Practica/Lucas/Ejercicios%202.ipynb#W0sZmlsZQ%3D%3D?line=3'>4</a>\u001b[0m mes \u001b[39m=\u001b[39m \u001b[39mint\u001b[39m(\u001b[39minput\u001b[39m(\u001b[39m\"\u001b[39m\u001b[39mIngrese el mes de nacimiento\u001b[39m\u001b[39m\"\u001b[39m))\n\u001b[0;32m      <a href='vscode-notebook-cell:/c%3A/Users/Arbusta/Desktop/Avengers/avengers/Practica/Lucas/Ejercicios%202.ipynb#W0sZmlsZQ%3D%3D?line=4'>5</a>\u001b[0m año  \u001b[39m=\u001b[39m \u001b[39mint\u001b[39m(\u001b[39minput\u001b[39m(\u001b[39m\"\u001b[39m\u001b[39mIngrese el año de Nacimiento\u001b[39m\u001b[39m\"\u001b[39m))\n\u001b[1;32m----> <a href='vscode-notebook-cell:/c%3A/Users/Arbusta/Desktop/Avengers/avengers/Practica/Lucas/Ejercicios%202.ipynb#W0sZmlsZQ%3D%3D?line=6'>7</a>\u001b[0m \u001b[39mprint\u001b[39m (\u001b[39m\"\u001b[39m\u001b[39mLa fecha es: \u001b[39m\u001b[39m\"\u001b[39m, dia, \u001b[39m\"\u001b[39m\u001b[39mde\u001b[39m\u001b[39m\"\u001b[39m, mes[mes\u001b[39m-\u001b[39;49m\u001b[39m1\u001b[39;49m], \u001b[39m\"\u001b[39m\u001b[39mdel\u001b[39m\u001b[39m\"\u001b[39m, año)\n",
      "\u001b[1;31mTypeError\u001b[0m: 'int' object is not subscriptable"
     ]
    }
   ],
   "source": [
    "\n",
    "Meses = [\"Enero\", \"Febrero\", \"Marzo\", \"Abril\", \"Junio\", \"Julio\", \"Agosto\", \"Septiembre\",\"Octubre\", \"Noviembre\", \"Diciembre\"]\n",
    "\n",
    "dia  = int(input(\"Ingrese el dia: \"))\n",
    "mes = int(input(\"Ingrese el mes de nacimiento\"))\n",
    "año  = int(input(\"Ingrese el año de Nacimiento\"))\n",
    "\n",
    "print (\"La fecha es: \", dia, \"de\", mes[mes-1], \"del\", año)"
   ]
  }
 ],
 "metadata": {
  "kernelspec": {
   "display_name": "Python 3.10.5 64-bit",
   "language": "python",
   "name": "python3"
  },
  "language_info": {
   "codemirror_mode": {
    "name": "ipython",
    "version": 3
   },
   "file_extension": ".py",
   "mimetype": "text/x-python",
   "name": "python",
   "nbconvert_exporter": "python",
   "pygments_lexer": "ipython3",
   "version": "3.10.5"
  },
  "orig_nbformat": 4,
  "vscode": {
   "interpreter": {
    "hash": "98fa02a8c884382a90c52caa7e7b88891612be484f9b34d4c4e4bfd155aeec17"
   }
  }
 },
 "nbformat": 4,
 "nbformat_minor": 2
}
