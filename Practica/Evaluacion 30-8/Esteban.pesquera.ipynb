{
 "cells": [
  {
   "cell_type": "code",
   "execution_count": 18,
   "metadata": {},
   "outputs": [
    {
     "name": "stdout",
     "output_type": "stream",
     "text": [
      "{'filosofia': 'andres', 'literatura': ['Lucas'], 'ingles': ['Esteban'], 'geografia': 'Alba'}\n"
     ]
    }
   ],
   "source": [
    "#1. Generar un diccionario con los nombres de las materias del secundario y el nombre de cada docente.\n",
    "#  Cambiar el nombre de dos docentes y mostrar por pantalla con esta modificacion.\n",
    "\n",
    "\n",
    "materias= {\"filosofia\":\"andres\", \"literatura\":\"roberto\", \"ingles\":\"maria\", \"geografia\":\"Alba\"}\n",
    "nuevos_docentes= {\"literatura\":[\"Lucas\"], \"ingles\":[\"Esteban\"]}\n",
    "materias.update(nuevos_docentes)\n",
    "print(materias)\n"
   ]
  },
  {
   "cell_type": "code",
   "execution_count": 19,
   "metadata": {},
   "outputs": [
    {
     "name": "stdout",
     "output_type": "stream",
     "text": [
      "[6, 5, 4, 3, 2, 1]\n"
     ]
    }
   ],
   "source": [
    "#2. Crea un programa que pida al usuario números, genera en una lista, cuando el usuario ingrese un 0 dejaremos de insertar.\n",
    "#  Por último, muestra los números ordenados de mayor a menor\n",
    "\n",
    "numero = int (input (\"Escribe un número: \"))\n",
    "numeroLimite = 0\n",
    "lista = []\n",
    "while numero != numeroLimite :\n",
    "    lista.append ( numero)\n",
    "    numero = int (input (\"Escribe un número: \"))\n",
    "    \n",
    "lista.reverse()\n",
    "print(lista)"
   ]
  },
  {
   "cell_type": "code",
   "execution_count": 25,
   "metadata": {},
   "outputs": [
    {
     "name": "stdout",
     "output_type": "stream",
     "text": [
      "error, ingresó un numero inexistente hasta el momento de la fecha,\n",
      "enero\n",
      "febrero\n",
      "error, ingresó un numero inexistente hasta el momento de la fecha,\n",
      "finalizado\n"
     ]
    }
   ],
   "source": [
    "meses= (\"enero\", \"febrero\", \"marzo\", \"abril\", \"mayo\", \"junio\", \"julio\", \"agosto\", \"septiembre\", \"octubre\", \"noviembre\", \"diciembre\")\n",
    "mes= 1\n",
    "while mes != 0:\n",
    "    mes= int(input(\"ingrese el numero correspondiente al mes : ingrese 0 para finalizar\"))\n",
    "    if (mes >=1 and mes <=12):\n",
    "        print(meses[mes-1])\n",
    "    elif (mes  == 0):\n",
    "        print(\"finalizado\")\n",
    "    else:\n",
    "        print(\"error, ingresó un numero inexistente hasta el momento de la fecha,\")"
   ]
  },
  {
   "cell_type": "markdown",
   "metadata": {},
   "source": []
  },
  {
   "cell_type": "code",
   "execution_count": null,
   "metadata": {},
   "outputs": [],
   "source": []
  }
 ],
 "metadata": {
  "kernelspec": {
   "display_name": "Python 3.10.5 64-bit",
   "language": "python",
   "name": "python3"
  },
  "language_info": {
   "codemirror_mode": {
    "name": "ipython",
    "version": 3
   },
   "file_extension": ".py",
   "mimetype": "text/x-python",
   "name": "python",
   "nbconvert_exporter": "python",
   "pygments_lexer": "ipython3",
   "version": "3.10.5"
  },
  "orig_nbformat": 4,
  "vscode": {
   "interpreter": {
    "hash": "98fa02a8c884382a90c52caa7e7b88891612be484f9b34d4c4e4bfd155aeec17"
   }
  }
 },
 "nbformat": 4,
 "nbformat_minor": 2
}
